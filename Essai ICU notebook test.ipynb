{
  "nbformat": 4,
  "nbformat_minor": 0,
  "metadata": {
    "colab": {
      "provenance": [],
      "include_colab_link": true
    },
    "kernelspec": {
      "name": "python3",
      "display_name": "Python 3"
    },
    "language_info": {
      "name": "python"
    }
  },
  "cells": [
    {
      "cell_type": "markdown",
      "metadata": {
        "id": "view-in-github",
        "colab_type": "text"
      },
      "source": [
        "<a href=\"https://colab.research.google.com/github/Darius245/TIPE/blob/main/Essai%20ICU%20notebook%20test.ipynb\" target=\"_parent\"><img src=\"https://colab.research.google.com/assets/colab-badge.svg\" alt=\"Open In Colab\"/></a>"
      ]
    },
    {
      "cell_type": "markdown",
      "source": [
        "# TIPE : Ilots de Chaleur Urbains\n",
        "\n",
        "Darius GAGNARD\n",
        "Ce notebook colab contients le travail exploratoire en python pour le TIPE section MPI. \n",
        "\n",
        "Sujet : Ilots de Chaleur Urbains (ICU) _Urban Heat Islands IHU_\n",
        "\n",
        "\n",
        "Test modification "
      ],
      "metadata": {
        "id": "5PzPbMsSNn-p"
      }
    },
    {
      "cell_type": "code",
      "source": [
        "!python --version\n",
        "\n",
        "import numpy as np\n",
        "from PIL import Image\n",
        "from PIL import ImageFilter\n",
        "\n",
        "from matplotlib.pyplot import imshow\n",
        "import matplotlib\n",
        "import seaborn as sns\n",
        "\n",
        "%matplotlib inline\n",
        "print (\"Numpy version (latest 1.23.0) - satisfied with (1.21.6) : \", np.__version__)\n",
        "# print (\"PIL version (latest 1.5) : \", PIL.__version__)\n",
        "print('matplotlib(latest 3.5) : ')\n",
        "!pip show matplotlib \n",
        "print (\"Seaborne version (latest 0.12) : \",sns.__version__)\n",
        "\n",
        "\n",
        "##import cv2 as cv"
      ],
      "metadata": {
        "colab": {
          "base_uri": "https://localhost:8080/"
        },
        "id": "YXcGMjVBPyqR",
        "outputId": "4a3e1bbb-1804-4199-a049-dbf059128369"
      },
      "execution_count": null,
      "outputs": [
        {
          "output_type": "stream",
          "name": "stdout",
          "text": [
            "Python 3.7.15\n",
            "Numpy version (latest 1.23.0) - satisfied with (1.21.6) :  1.21.6\n",
            "matplotlib(latest 3.5) : \n",
            "Name: matplotlib\n",
            "Version: 3.2.2\n",
            "Summary: Python plotting package\n",
            "Home-page: https://matplotlib.org\n",
            "Author: John D. Hunter, Michael Droettboom\n",
            "Author-email: matplotlib-users@python.org\n",
            "License: PSF\n",
            "Location: /usr/local/lib/python3.7/dist-packages\n",
            "Requires: kiwisolver, cycler, numpy, python-dateutil, pyparsing\n",
            "Required-by: yellowbrick, wordcloud, seaborn, scikit-image, pycocotools, prophet, plotnine, pandas-profiling, mlxtend, mizani, missingno, matplotlib-venn, keras-vis, imgaug, fastai, descartes, datascience, daft, arviz\n",
            "Seaborne version (latest 0.12) :  0.11.2\n"
          ]
        }
      ]
    },
    {
      "cell_type": "code",
      "source": [
        "# connecter mon google drive pour y mettre les images et données\n",
        "# Mettre les donn'ee\n",
        "\n",
        "from google.colab import drive\n",
        "drive.mount('/content/drive')"
      ],
      "metadata": {
        "id": "DMdpIxMyQ321"
      },
      "execution_count": null,
      "outputs": []
    },
    {
      "cell_type": "code",
      "source": [
        "\n",
        "\n",
        "##print (px[4,4])\n",
        "##coordinate = x,y = 17 , 44\n",
        "##print(im.getpixel(coordinate))\n",
        "\n",
        "color1 = (0,255,0)\n",
        "color2 = (255,255,0)\n",
        "color3 = (0,255,255)\n",
        "color4 = (255,255,255)\n",
        "#im = Image.open(r\"C:\\Users\\dariu\\OneDrive\\SPÉ 22-23\\TIPE\\versaillestest2.png\", 'r')\n",
        "im = Image.open(r\"/content/drive/MyDrive/TIPE/versaillestest2.png\", 'r')\n",
        "\n",
        "\n",
        "px = im.load()\n",
        "w = im.width\n",
        "h = im.height\n",
        "##Échelle\n",
        "imech = Image.open(r\"C:\\Users\\dariu\\OneDrive\\SPÉ 22-23\\TIPE\\echversaillestest2.png\", 'r')\n",
        "pxe = im.load()\n",
        "we = im.width\n",
        "ech1m = we/1000\n",
        "##print(we)\n",
        "\n",
        "\n",
        "##for i in range (0, w-1):\n",
        "    ##for j in range (0,h-1):\n",
        "        ##coordinate = x,y = i,j\n",
        "        ##print(im.getpixel(coordinate))\n",
        "\n",
        "##im2 = im.filter(ImageFilter.BLUR)\n",
        "##im2.show()\n",
        "comp = 0;\n",
        "for i in range(w):\n",
        "    for j in range(h):\n",
        "        r,g,b,l = px[i,j]\n",
        "        if (r>90 or b>90 or g < 30):\n",
        "            px[i,j] = 0,0,0,l\n",
        "        else:\n",
        "            px[i,j] = 0,255,0,l\n",
        "            comp += 1\n",
        "            ##compteur du nombre de pixels: 1 pixel représente ech1m metres carré\n",
        "im.show()\n",
        "print(comp*(ech1m))"
      ],
      "metadata": {
        "id": "KFst0H5IOlf6"
      },
      "execution_count": null,
      "outputs": []
    },
    {
      "cell_type": "code",
      "source": [],
      "metadata": {
        "id": "UezdCIKXOliq"
      },
      "execution_count": null,
      "outputs": []
    },
    {
      "cell_type": "code",
      "source": [],
      "metadata": {
        "id": "D9L8eg9yOlmp"
      },
      "execution_count": null,
      "outputs": []
    },
    {
      "cell_type": "code",
      "source": [],
      "metadata": {
        "id": "d198-G43Olp0"
      },
      "execution_count": null,
      "outputs": []
    },
    {
      "cell_type": "code",
      "source": [
        "from PIL import Image\n",
        "from PIL import ImageFilter\n",
        "\n",
        "##import cv2 as cv\n",
        "\n",
        "import numpy as np\n",
        "from matplotlib.pyplot import imshow\n",
        "\n",
        "\n",
        "\n",
        "im = Image.open(r\"C:\\Users\\dariu\\OneDrive\\SPÉ 22-23\\TIPE\\versaillestest2.png\", 'r')\n",
        "px = im.load()\n",
        "w = im.width\n",
        "h = im.height\n",
        "\n",
        "\n",
        "##Échelle\n",
        "imech = Image.open(r\"C:\\Users\\dariu\\OneDrive\\SPÉ 22-23\\TIPE\\echversaillestest2.png\", 'r')\n",
        "pxe = imech.load()\n",
        "we = imech.width\n",
        "he = imech.height\n",
        "\n",
        "taillem = 0\n",
        "taille = 0\n",
        "for i in range(he):\n",
        "    for j in range(we):\n",
        "        re,ge,be,le = pxe[j,i]\n",
        "        if (re>=150 and be>= 150 and ge >= 150): ##pour reconnaitre le blanc de l'échelle?\n",
        "            taille += 1\n",
        "    taillem = max(taillem, taille)\n",
        "    taille = 0\n",
        "\n",
        "ech1m = taillem/1000\n",
        "\n",
        "\n",
        "\n",
        "comp = 0;\n",
        "for i in range(w):\n",
        "    for j in range(h):\n",
        "        r,g,b,l = px[i,j]\n",
        "        if (r>90 or b>90 or g < 30):\n",
        "            px[i,j] = 0,0,0,l\n",
        "        else:\n",
        "            px[i,j] = 0,255,0,l\n",
        "            comp += 1\n",
        "            ##compteur du nombre de pixels: ech1m représente le nombre de pixels par metres carré\n",
        "im.show()\n",
        "print(comp/(ech1m))"
      ],
      "metadata": {
        "id": "VEar63-jOlsT"
      },
      "execution_count": null,
      "outputs": []
    }
  ]
}